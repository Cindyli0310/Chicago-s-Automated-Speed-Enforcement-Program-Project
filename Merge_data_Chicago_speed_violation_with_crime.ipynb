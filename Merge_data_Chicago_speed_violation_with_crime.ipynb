{
 "cells": [
  {
   "cell_type": "code",
   "execution_count": 1,
   "metadata": {},
   "outputs": [],
   "source": [
    "import pandas as pd"
   ]
  },
  {
   "cell_type": "markdown",
   "metadata": {},
   "source": [
    "## Violations"
   ]
  },
  {
   "cell_type": "code",
   "execution_count": 2,
   "metadata": {},
   "outputs": [],
   "source": [
    "df_violations = pd.read_csv('Speed_Camera_Violations.csv')"
   ]
  },
  {
   "cell_type": "code",
   "execution_count": 3,
   "metadata": {},
   "outputs": [
    {
     "data": {
      "text/html": [
       "<div>\n",
       "<style scoped>\n",
       "    .dataframe tbody tr th:only-of-type {\n",
       "        vertical-align: middle;\n",
       "    }\n",
       "\n",
       "    .dataframe tbody tr th {\n",
       "        vertical-align: top;\n",
       "    }\n",
       "\n",
       "    .dataframe thead th {\n",
       "        text-align: right;\n",
       "    }\n",
       "</style>\n",
       "<table border=\"1\" class=\"dataframe\">\n",
       "  <thead>\n",
       "    <tr style=\"text-align: right;\">\n",
       "      <th></th>\n",
       "      <th>ADDRESS</th>\n",
       "      <th>CAMERA ID</th>\n",
       "      <th>VIOLATION DATE</th>\n",
       "      <th>VIOLATIONS</th>\n",
       "      <th>X COORDINATE</th>\n",
       "      <th>Y COORDINATE</th>\n",
       "      <th>LATITUDE</th>\n",
       "      <th>LONGITUDE</th>\n",
       "      <th>LOCATION</th>\n",
       "      <th>Historical Wards 2003-2015</th>\n",
       "      <th>Zip Codes</th>\n",
       "      <th>Community Areas</th>\n",
       "      <th>Census Tracts</th>\n",
       "      <th>Wards</th>\n",
       "    </tr>\n",
       "  </thead>\n",
       "  <tbody>\n",
       "    <tr>\n",
       "      <th>0</th>\n",
       "      <td>10318 S INDIANAPOLIS</td>\n",
       "      <td>CHI120</td>\n",
       "      <td>4/12/19</td>\n",
       "      <td>93</td>\n",
       "      <td>1203645.368</td>\n",
       "      <td>1837056.145</td>\n",
       "      <td>41.707577</td>\n",
       "      <td>-87.529848</td>\n",
       "      <td>(41.70757690291348, -87.52984826112849)</td>\n",
       "      <td>47.0</td>\n",
       "      <td>21,202</td>\n",
       "      <td>49.0</td>\n",
       "      <td>705.0</td>\n",
       "      <td>47.0</td>\n",
       "    </tr>\n",
       "    <tr>\n",
       "      <th>1</th>\n",
       "      <td>1110 S PULASKI RD</td>\n",
       "      <td>CHI163</td>\n",
       "      <td>4/12/19</td>\n",
       "      <td>9</td>\n",
       "      <td>1149841.166</td>\n",
       "      <td>1894930.809</td>\n",
       "      <td>41.867603</td>\n",
       "      <td>-87.725383</td>\n",
       "      <td>(41.86760272243294, -87.7253827433152)</td>\n",
       "      <td>36.0</td>\n",
       "      <td>21,572</td>\n",
       "      <td>30.0</td>\n",
       "      <td>98.0</td>\n",
       "      <td>14.0</td>\n",
       "    </tr>\n",
       "    <tr>\n",
       "      <th>2</th>\n",
       "      <td>1111 N HUMBOLDT</td>\n",
       "      <td>CHI010</td>\n",
       "      <td>4/12/19</td>\n",
       "      <td>60</td>\n",
       "      <td>NaN</td>\n",
       "      <td>NaN</td>\n",
       "      <td>NaN</td>\n",
       "      <td>NaN</td>\n",
       "      <td>NaN</td>\n",
       "      <td>NaN</td>\n",
       "      <td>NaN</td>\n",
       "      <td>NaN</td>\n",
       "      <td>NaN</td>\n",
       "      <td>NaN</td>\n",
       "    </tr>\n",
       "    <tr>\n",
       "      <th>3</th>\n",
       "      <td>11144 S VINCENNES</td>\n",
       "      <td>CHI023</td>\n",
       "      <td>4/12/19</td>\n",
       "      <td>23</td>\n",
       "      <td>1166993.613</td>\n",
       "      <td>1830711.217</td>\n",
       "      <td>41.691025</td>\n",
       "      <td>-87.664248</td>\n",
       "      <td>(41.69102545584918, -87.6642476900556)</td>\n",
       "      <td>33.0</td>\n",
       "      <td>22,212</td>\n",
       "      <td>74.0</td>\n",
       "      <td>378.0</td>\n",
       "      <td>42.0</td>\n",
       "    </tr>\n",
       "    <tr>\n",
       "      <th>4</th>\n",
       "      <td>11153 S VINCENNES</td>\n",
       "      <td>CHI022</td>\n",
       "      <td>4/12/19</td>\n",
       "      <td>25</td>\n",
       "      <td>1167028.753</td>\n",
       "      <td>1830593.601</td>\n",
       "      <td>41.690702</td>\n",
       "      <td>-87.664122</td>\n",
       "      <td>(41.690701951255015, -87.66412238501842)</td>\n",
       "      <td>45.0</td>\n",
       "      <td>22,212</td>\n",
       "      <td>74.0</td>\n",
       "      <td>378.0</td>\n",
       "      <td>22.0</td>\n",
       "    </tr>\n",
       "  </tbody>\n",
       "</table>\n",
       "</div>"
      ],
      "text/plain": [
       "                ADDRESS CAMERA ID VIOLATION DATE  VIOLATIONS  X COORDINATE  \\\n",
       "0  10318 S INDIANAPOLIS    CHI120        4/12/19          93   1203645.368   \n",
       "1     1110 S PULASKI RD    CHI163        4/12/19           9   1149841.166   \n",
       "2       1111 N HUMBOLDT    CHI010        4/12/19          60           NaN   \n",
       "3     11144 S VINCENNES    CHI023        4/12/19          23   1166993.613   \n",
       "4     11153 S VINCENNES    CHI022        4/12/19          25   1167028.753   \n",
       "\n",
       "   Y COORDINATE   LATITUDE  LONGITUDE  \\\n",
       "0   1837056.145  41.707577 -87.529848   \n",
       "1   1894930.809  41.867603 -87.725383   \n",
       "2           NaN        NaN        NaN   \n",
       "3   1830711.217  41.691025 -87.664248   \n",
       "4   1830593.601  41.690702 -87.664122   \n",
       "\n",
       "                                   LOCATION  Historical Wards 2003-2015  \\\n",
       "0   (41.70757690291348, -87.52984826112849)                        47.0   \n",
       "1    (41.86760272243294, -87.7253827433152)                        36.0   \n",
       "2                                       NaN                         NaN   \n",
       "3    (41.69102545584918, -87.6642476900556)                        33.0   \n",
       "4  (41.690701951255015, -87.66412238501842)                        45.0   \n",
       "\n",
       "  Zip Codes  Community Areas  Census Tracts  Wards  \n",
       "0    21,202             49.0          705.0   47.0  \n",
       "1    21,572             30.0           98.0   14.0  \n",
       "2       NaN              NaN            NaN    NaN  \n",
       "3    22,212             74.0          378.0   42.0  \n",
       "4    22,212             74.0          378.0   22.0  "
      ]
     },
     "execution_count": 3,
     "metadata": {},
     "output_type": "execute_result"
    }
   ],
   "source": [
    "df_violations.head()"
   ]
  },
  {
   "cell_type": "markdown",
   "metadata": {},
   "source": [
    "## Camera locations"
   ]
  },
  {
   "cell_type": "code",
   "execution_count": 4,
   "metadata": {},
   "outputs": [],
   "source": [
    "df_camera = df_violations.groupby(['CAMERA ID'])[[\n",
    "    'CAMERA ID', 'LATITUDE', 'LONGITUDE', 'Wards'\n",
    "]].max()"
   ]
  },
  {
   "cell_type": "code",
   "execution_count": 5,
   "metadata": {},
   "outputs": [
    {
     "data": {
      "text/html": [
       "<div>\n",
       "<style scoped>\n",
       "    .dataframe tbody tr th:only-of-type {\n",
       "        vertical-align: middle;\n",
       "    }\n",
       "\n",
       "    .dataframe tbody tr th {\n",
       "        vertical-align: top;\n",
       "    }\n",
       "\n",
       "    .dataframe thead th {\n",
       "        text-align: right;\n",
       "    }\n",
       "</style>\n",
       "<table border=\"1\" class=\"dataframe\">\n",
       "  <thead>\n",
       "    <tr style=\"text-align: right;\">\n",
       "      <th></th>\n",
       "      <th>CAMERA ID</th>\n",
       "      <th>LATITUDE</th>\n",
       "      <th>LONGITUDE</th>\n",
       "      <th>Wards</th>\n",
       "    </tr>\n",
       "    <tr>\n",
       "      <th>CAMERA ID</th>\n",
       "      <th></th>\n",
       "      <th></th>\n",
       "      <th></th>\n",
       "      <th></th>\n",
       "    </tr>\n",
       "  </thead>\n",
       "  <tbody>\n",
       "    <tr>\n",
       "      <th>CHI003</th>\n",
       "      <td>CHI003</td>\n",
       "      <td>41.975605</td>\n",
       "      <td>-87.731670</td>\n",
       "      <td>38.0</td>\n",
       "    </tr>\n",
       "    <tr>\n",
       "      <th>CHI004</th>\n",
       "      <td>CHI004</td>\n",
       "      <td>41.974333</td>\n",
       "      <td>-87.728347</td>\n",
       "      <td>38.0</td>\n",
       "    </tr>\n",
       "    <tr>\n",
       "      <th>CHI005</th>\n",
       "      <td>CHI005</td>\n",
       "      <td>41.823189</td>\n",
       "      <td>-87.677349</td>\n",
       "      <td>1.0</td>\n",
       "    </tr>\n",
       "    <tr>\n",
       "      <th>CHI007</th>\n",
       "      <td>CHI007</td>\n",
       "      <td>41.823564</td>\n",
       "      <td>-87.684721</td>\n",
       "      <td>1.0</td>\n",
       "    </tr>\n",
       "    <tr>\n",
       "      <th>CHI008</th>\n",
       "      <td>CHI008</td>\n",
       "      <td>41.877071</td>\n",
       "      <td>-87.718168</td>\n",
       "      <td>23.0</td>\n",
       "    </tr>\n",
       "  </tbody>\n",
       "</table>\n",
       "</div>"
      ],
      "text/plain": [
       "          CAMERA ID   LATITUDE  LONGITUDE  Wards\n",
       "CAMERA ID                                       \n",
       "CHI003       CHI003  41.975605 -87.731670   38.0\n",
       "CHI004       CHI004  41.974333 -87.728347   38.0\n",
       "CHI005       CHI005  41.823189 -87.677349    1.0\n",
       "CHI007       CHI007  41.823564 -87.684721    1.0\n",
       "CHI008       CHI008  41.877071 -87.718168   23.0"
      ]
     },
     "execution_count": 5,
     "metadata": {},
     "output_type": "execute_result"
    }
   ],
   "source": [
    "df_camera.head()"
   ]
  },
  {
   "cell_type": "markdown",
   "metadata": {},
   "source": [
    "## Crimes"
   ]
  },
  {
   "cell_type": "code",
   "execution_count": 6,
   "metadata": {},
   "outputs": [],
   "source": [
    "df_c15 = pd.read_csv('Crimes_-_2015.csv')"
   ]
  },
  {
   "cell_type": "code",
   "execution_count": 7,
   "metadata": {},
   "outputs": [],
   "source": [
    "df_c16 = pd.read_csv('Crimes_-_2016.csv')"
   ]
  },
  {
   "cell_type": "code",
   "execution_count": 8,
   "metadata": {},
   "outputs": [],
   "source": [
    "df_c17 = pd.read_csv('Crimes_-_2017.csv')"
   ]
  },
  {
   "cell_type": "code",
   "execution_count": 9,
   "metadata": {},
   "outputs": [],
   "source": [
    "df_c18 = pd.read_csv('Crimes_-_2018.csv')"
   ]
  },
  {
   "cell_type": "code",
   "execution_count": 10,
   "metadata": {},
   "outputs": [],
   "source": [
    "df_crimes = pd.concat([df_c15, df_c16, df_c17, df_c18])"
   ]
  },
  {
   "cell_type": "code",
   "execution_count": 11,
   "metadata": {},
   "outputs": [],
   "source": [
    "df_crimes_by_wards = df_crimes.groupby(['Wards'])[['Case Number']].count()"
   ]
  },
  {
   "cell_type": "code",
   "execution_count": 12,
   "metadata": {},
   "outputs": [],
   "source": [
    "df_camera_crime = df_camera.merge(df_crimes_by_wards, how='left', on='Wards')"
   ]
  },
  {
   "cell_type": "code",
   "execution_count": 13,
   "metadata": {},
   "outputs": [],
   "source": [
    "df_camera_crime.to_csv('camera_with_crime.csv')"
   ]
  }
 ],
 "metadata": {
  "kernelspec": {
   "display_name": "Python 3",
   "language": "python",
   "name": "python3"
  },
  "language_info": {
   "codemirror_mode": {
    "name": "ipython",
    "version": 3
   },
   "file_extension": ".py",
   "mimetype": "text/x-python",
   "name": "python",
   "nbconvert_exporter": "python",
   "pygments_lexer": "ipython3",
   "version": "3.7.1"
  }
 },
 "nbformat": 4,
 "nbformat_minor": 2
}
